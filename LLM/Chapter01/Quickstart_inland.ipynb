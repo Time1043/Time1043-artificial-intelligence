{
 "cells": [
  {
   "cell_type": "markdown",
   "source": [
    "# Read the key"
   ],
   "metadata": {
    "collapsed": false
   },
   "id": "a6073f52e8cae509"
  },
  {
   "cell_type": "code",
   "execution_count": 18,
   "outputs": [],
   "source": [
    "import yaml\n",
    "\n",
    "yaml_file = \"../../key/key.yaml\"\n",
    "with open(yaml_file, 'r') as file:\n",
    "    data_key = yaml.safe_load(file)\n"
   ],
   "metadata": {
    "collapsed": false,
    "ExecuteTime": {
     "end_time": "2024-04-03T05:16:54.083344700Z",
     "start_time": "2024-04-03T05:16:54.064069700Z"
    }
   },
   "id": "5d043f852499fd7e"
  },
  {
   "cell_type": "markdown",
   "source": [
    "# baidu qianfan"
   ],
   "metadata": {
    "collapsed": false
   },
   "id": "6b9c43632b4b9387"
  },
  {
   "cell_type": "markdown",
   "source": [
    "[简单示例](https://cloud.baidu.com/doc/WENXINWORKSHOP/s/4lilb2lpf#%E7%A4%BA%E4%BE%8B)"
   ],
   "metadata": {
    "collapsed": false
   },
   "id": "d399fdcaaa9450bb"
  },
  {
   "cell_type": "code",
   "execution_count": 19,
   "outputs": [],
   "source": [
    "import requests\n",
    "import json\n",
    "import os\n",
    "\n",
    "qianfan_info = data_key.get(\"qianfan\", {})\n",
    "os.environ[\"QIANFAN_ACCESS_KEY\"] = qianfan_info.get('APIKey')\n",
    "os.environ[\"QIANFAN_SECRET_KEY\"] = qianfan_info.get('SecretKey')\n",
    "\n",
    "\n",
    "def get_access_token():\n",
    "    \"\"\"\n",
    "    使用 API Key，Secret Key 获取access_token，替换下列示例中的应用API Key、应用Secret Key\n",
    "    \"\"\"\n",
    "    url = f\"https://aip.baidubce.com/oauth/2.0/token?grant_type=client_credentials&client_id={qianfan_info.get('APIKey')}&client_secret={qianfan_info.get('SecretKey')}\"\n",
    "    payload = json.dumps(\"\")\n",
    "    headers = {\n",
    "        'Content-Type': 'application/json',\n",
    "        'Accept': 'application/json'\n",
    "    }\n",
    "\n",
    "    response = requests.request(\"POST\", url, headers=headers, data=payload)\n",
    "    return response.json().get(\"access_token\")\n",
    "\n",
    "\n",
    "access_token = get_access_token()"
   ],
   "metadata": {
    "collapsed": false,
    "ExecuteTime": {
     "end_time": "2024-04-03T05:16:54.385823800Z",
     "start_time": "2024-04-03T05:16:54.074333800Z"
    }
   },
   "id": "b995157af59fa8d1"
  },
  {
   "cell_type": "code",
   "execution_count": 20,
   "outputs": [
    {
     "name": "stdout",
     "output_type": "stream",
     "text": [
      "{'Access-Control-Allow-Headers': 'Content-Type', 'Access-Control-Allow-Origin': '*', 'Appid': '59525789', 'Connection': 'keep-alive', 'Content-Encoding': 'gzip', 'Content-Type': 'application/json; charset=utf-8', 'Date': 'Wed, 03 Apr 2024 05:16:52 GMT', 'P3p': 'CP=\" OTI DSP COR IVA OUR IND COM \"', 'Server': 'Apache', 'Set-Cookie': 'BAIDUID=398EC480342546A2884C99E3F40841AF:FG=1; expires=Thu, 31-Dec-37 23:55:55 GMT; max-age=2145916555; path=/; domain=.baidu.com; version=1', 'Statement': 'AI-generated', 'Vary': 'Accept-Encoding', 'X-Aipe-Self-Def': 'eb_total_tokens:9,prompt_tokens:1,id:as-ipsnzs4x5d', 'X-Baidu-Request-Id': '11b893041c58e7e552b65d1a64aea8531000100', 'X-Openapi-Server-Timestamp': '1712121412', 'X-Ratelimit-Limit-Requests': '300', 'X-Ratelimit-Limit-Tokens': '300000', 'X-Ratelimit-Remaining-Requests': '299', 'X-Ratelimit-Remaining-Tokens': '299999', 'Content-Length': '221'}\n",
      "{\"id\":\"as-ipsnzs4x5d\",\"object\":\"chat.completion\",\"created\":1712121412,\"result\":\"你好，有什么我可以帮助你的吗？\",\"is_truncated\":false,\"need_clear_history\":false,\"usage\":{\"prompt_tokens\":1,\"completion_tokens\":8,\"total_tokens\":9}}\n"
     ]
    }
   ],
   "source": [
    "url = \"https://aip.baidubce.com/rpc/2.0/ai_custom/v1/wenxinworkshop/chat/eb-instant?access_token=\" + access_token\n",
    "payload = json.dumps({\n",
    "    \"messages\": [\n",
    "        {\n",
    "            \"role\": \"user\",\n",
    "            \"content\": \"你好\"\n",
    "        }\n",
    "    ]\n",
    "})\n",
    "headers = {\n",
    "    'Content-Type': 'application/json'\n",
    "}\n",
    "\n",
    "response = requests.request(\"POST\", url, headers=headers, data=payload)\n",
    "print(response.headers)\n",
    "print(response.text)"
   ],
   "metadata": {
    "collapsed": false,
    "ExecuteTime": {
     "end_time": "2024-04-03T05:16:55.162961200Z",
     "start_time": "2024-04-03T05:16:54.386852900Z"
    }
   },
   "id": "cc106572e3995094"
  },
  {
   "cell_type": "code",
   "execution_count": 23,
   "outputs": [
    {
     "name": "stdout",
     "output_type": "stream",
     "text": [
      "{'Access-Control-Allow-Headers': 'Content-Type', 'Access-Control-Allow-Origin': '*', 'Appid': '59525789', 'Connection': 'keep-alive', 'Content-Encoding': 'gzip', 'Content-Type': 'application/json; charset=utf-8', 'Date': 'Wed, 03 Apr 2024 05:18:10 GMT', 'P3p': 'CP=\" OTI DSP COR IVA OUR IND COM \"', 'Server': 'Apache', 'Set-Cookie': 'BAIDUID=8AC0DFC3CE3623F652CAF74E8FB9EE73:FG=1; expires=Thu, 31-Dec-37 23:55:55 GMT; max-age=2145916555; path=/; domain=.baidu.com; version=1', 'Statement': 'AI-generated', 'Vary': 'Accept-Encoding', 'X-Aipe-Self-Def': 'eb_total_tokens:446,prompt_tokens:238,id:as-ejtpb5wmgh', 'X-Baidu-Request-Id': '4cdc22719097a8b252ab58151d506b2f1000027', 'X-Openapi-Server-Timestamp': '1712121485', 'X-Ratelimit-Limit-Requests': '300', 'X-Ratelimit-Limit-Tokens': '300000', 'X-Ratelimit-Remaining-Requests': '299', 'X-Ratelimit-Remaining-Tokens': '299762', 'Transfer-Encoding': 'chunked'}\n",
      "{\"id\":\"as-ejtpb5wmgh\",\"object\":\"chat.completion\",\"created\":1712121490,\"result\":\"上海是一个美食之都，有很多美食值得品尝。以下是几个上海的特色美食：\\n\\n1. 小笼包：小笼包是上海的传统美食之一，皮薄馅多，口感鲜美。\\n2. 生煎包：生煎包是上海的另一种特色小吃，馅料丰富，口感鲜美，底部煎得酥脆可口。\\n3. 蟹壳黄：蟹壳黄是上海的一种传统糕点，表面金黄，口感酥脆，馅料多样。\\n4. 糟卤肉：糟卤肉是上海的传统美食，采用特殊的烹饪工艺，口感鲜美，带有微醺的酒香。\\n5. 桂花糖藕：桂花糖藕是上海的一种甜品，以糯米为主料，搭配桂花和甜醋烹饪而成，口感软糯、香甜可口。\\n\\n除此之外，上海还有许多其他的美食，比如海鲜、本帮菜、川菜等等。可以根据自己的口味和喜好选择合适的餐厅品尝。\",\"is_truncated\":false,\"need_clear_history\":false,\"usage\":{\"prompt_tokens\":238,\"completion_tokens\":208,\"total_tokens\":446}}\n"
     ]
    }
   ],
   "source": [
    "url = \"https://aip.baidubce.com/rpc/2.0/ai_custom/v1/wenxinworkshop/chat/eb-instant?access_token=\" + access_token\n",
    "\n",
    "payload = json.dumps({\n",
    "    \"messages\": [\n",
    "        {\n",
    "            \"role\": \"user\",\n",
    "            \"content\": \"你好\"\n",
    "        },\n",
    "        {\n",
    "            \"role\": \"assistant\",\n",
    "            \"content\": \"你好，有什么我可以帮助你的吗？\"\n",
    "        },\n",
    "        {\n",
    "            \"role\": \"user\",\n",
    "            \"content\": \"我在上海，周末可以去哪里玩？\"\n",
    "        },\n",
    "        {\n",
    "            \"role\": \"assistant\",\n",
    "            \"content\": \"上海是一个充满活力和文化氛围的城市，有很多适合周末游玩的地方。以下是几个值得推荐的地方：\\n\\n1. 上海科技馆：上海科技馆是中国大陆最大的科技馆之一，有许多互动展览和科学实验室，可以让您了解科技的发展历史和最新成果。\\n2. 上海博物馆：上海博物馆是一座集艺术、历史和文化于一体的博物馆，有许多精美的艺术品和文物，可以让您深入了解中国和世界的文化历史。\\n3. 外滩：外滩是上海的标志性景点之一，有许多高楼大厦和繁华的商业街区，是欣赏黄浦江美景和城市风貌的好去处。\\n4. 上海迪士尼乐园：上海迪士尼乐园是世界上最大的迪士尼主题公园之一，有许多精彩的游乐项目和演出，可以让您尽情享受娱乐和欢乐。\\n5. 上海野生动物园：上海野生动物园是一个以自然保护为主题的野生动物园，有许多珍稀动物和植物，可以让您近距离接触大自然。\\n\\n这些地方都是上海周末游玩的好去处，可以根据自己的兴趣和需求选择合适的行程。\"\n",
    "        },\n",
    "        {\n",
    "            \"role\": \"user\",\n",
    "            \"content\": \"上海有哪些美食\"\n",
    "        }\n",
    "    ]\n",
    "})\n",
    "headers = {\n",
    "    'Content-Type': 'application/json'\n",
    "}\n",
    "\n",
    "response = requests.request(\"POST\", url, headers=headers, data=payload)\n",
    "\n",
    "print(response.headers)\n",
    "print(response.text)"
   ],
   "metadata": {
    "collapsed": false,
    "ExecuteTime": {
     "end_time": "2024-04-03T05:18:12.856008200Z",
     "start_time": "2024-04-03T05:18:07.818848800Z"
    }
   },
   "id": "a50d560f1426c3cc"
  },
  {
   "cell_type": "code",
   "execution_count": 25,
   "outputs": [
    {
     "name": "stdout",
     "output_type": "stream",
     "text": [
      "上海是一个美食之都，有很多美食值得品尝。以下是几个上海的特色美食：\n",
      "\n",
      "1. 小笼包：小笼包是上海的传统美食之一，皮薄馅多，口感鲜美。\n",
      "2. 生煎包：生煎包是上海的另一种特色小吃，馅料丰富，口感鲜美，底部煎得酥脆可口。\n",
      "3. 蟹壳黄：蟹壳黄是上海的一种传统糕点，表面金黄，口感酥脆，馅料多样。\n",
      "4. 糟卤肉：糟卤肉是上海的传统美食，采用特殊的烹饪工艺，口感鲜美，带有微醺的酒香。\n",
      "5. 桂花糖藕：桂花糖藕是上海的一种甜品，以糯米为主料，搭配桂花和甜醋烹饪而成，口感软糯、香甜可口。\n",
      "\n",
      "除此之外，上海还有许多其他的美食，比如海鲜、本帮菜、川菜等等。可以根据自己的口味和喜好选择合适的餐厅品尝。\n"
     ]
    }
   ],
   "source": [
    "resp_json = response.json()\n",
    "print(resp_json[\"result\"])"
   ],
   "metadata": {
    "collapsed": false,
    "ExecuteTime": {
     "end_time": "2024-04-03T05:19:44.063971900Z",
     "start_time": "2024-04-03T05:19:44.049972700Z"
    }
   },
   "id": "c9504e7719fa7e1e"
  },
  {
   "cell_type": "markdown",
   "source": [
    "# zhipuai"
   ],
   "metadata": {
    "collapsed": false
   },
   "id": "d99e6fb34112afaf"
  },
  {
   "cell_type": "code",
   "execution_count": 22,
   "outputs": [
    {
     "name": "stdout",
     "output_type": "stream",
     "text": [
      "content='\"精准洞察，智谱未来 —— 携手共筑梦想的AI力量\" \\n\\n这个slogan强调了产品的精准性和未来导向，同时传达了与用户共同成长和实现梦想的愿景。' role='assistant' tool_calls=None\n"
     ]
    }
   ],
   "source": [],
   "metadata": {
    "collapsed": false,
    "ExecuteTime": {
     "end_time": "2024-04-03T05:17:02.336113800Z",
     "start_time": "2024-04-03T05:16:59.734276900Z"
    }
   },
   "id": "237f454d0dc4fb56"
  },
  {
   "cell_type": "code",
   "execution_count": 22,
   "outputs": [],
   "source": [],
   "metadata": {
    "collapsed": false,
    "ExecuteTime": {
     "end_time": "2024-04-03T05:17:02.378389Z",
     "start_time": "2024-04-03T05:17:02.335113200Z"
    }
   },
   "id": "6f2b244fa75d7c7c"
  },
  {
   "cell_type": "code",
   "execution_count": 22,
   "id": "initial_id",
   "metadata": {
    "collapsed": true,
    "ExecuteTime": {
     "end_time": "2024-04-03T05:17:02.385388200Z",
     "start_time": "2024-04-03T05:17:02.349120100Z"
    }
   },
   "outputs": [],
   "source": []
  }
 ],
 "metadata": {
  "kernelspec": {
   "display_name": "Python 3",
   "language": "python",
   "name": "python3"
  },
  "language_info": {
   "codemirror_mode": {
    "name": "ipython",
    "version": 2
   },
   "file_extension": ".py",
   "mimetype": "text/x-python",
   "name": "python",
   "nbconvert_exporter": "python",
   "pygments_lexer": "ipython2",
   "version": "2.7.6"
  }
 },
 "nbformat": 4,
 "nbformat_minor": 5
}
